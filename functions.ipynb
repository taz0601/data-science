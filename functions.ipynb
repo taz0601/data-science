{
 "cells": [
  {
   "cell_type": "code",
   "execution_count": null,
   "id": "e7f643e7",
   "metadata": {},
   "outputs": [],
   "source": [
    "#Functions"
   ]
  },
  {
   "cell_type": "code",
   "execution_count": null,
   "id": "a553e9eb",
   "metadata": {},
   "outputs": [],
   "source": [
    "without Argument Without return Type"
   ]
  },
  {
   "cell_type": "code",
   "execution_count": 3,
   "id": "55b4c2a9",
   "metadata": {},
   "outputs": [
    {
     "name": "stdout",
     "output_type": "stream",
     "text": [
      "11\n"
     ]
    }
   ],
   "source": [
    "def add():\n",
    "    a = 5\n",
    "    b = 6\n",
    "    c = a+b\n",
    "    print(c)\n",
    "    \n",
    "add()"
   ]
  },
  {
   "cell_type": "code",
   "execution_count": null,
   "id": "ee1eb2b8",
   "metadata": {},
   "outputs": [],
   "source": [
    "with argument without return type"
   ]
  },
  {
   "cell_type": "code",
   "execution_count": 4,
   "id": "2f8b15b0",
   "metadata": {},
   "outputs": [
    {
     "name": "stdout",
     "output_type": "stream",
     "text": [
      "11\n"
     ]
    }
   ],
   "source": [
    "def add(a,b):\n",
    "    c = a+b\n",
    "    print(c)\n",
    "    \n",
    "add(5,6)"
   ]
  },
  {
   "cell_type": "code",
   "execution_count": null,
   "id": "21e06f58",
   "metadata": {},
   "outputs": [],
   "source": [
    "without arguments with return type"
   ]
  },
  {
   "cell_type": "code",
   "execution_count": 5,
   "id": "57e1efbe",
   "metadata": {},
   "outputs": [
    {
     "data": {
      "text/plain": [
       "11"
      ]
     },
     "execution_count": 5,
     "metadata": {},
     "output_type": "execute_result"
    }
   ],
   "source": [
    "def add():\n",
    "    a = 5\n",
    "    b = 6\n",
    "    c = a+b\n",
    "    return c\n",
    "\n",
    "add()"
   ]
  },
  {
   "cell_type": "code",
   "execution_count": null,
   "id": "e56feff8",
   "metadata": {},
   "outputs": [],
   "source": [
    "with arguments with return type\n"
   ]
  },
  {
   "cell_type": "code",
   "execution_count": 6,
   "id": "ad82b0b9",
   "metadata": {},
   "outputs": [
    {
     "name": "stdout",
     "output_type": "stream",
     "text": [
      "13\n"
     ]
    }
   ],
   "source": [
    "def add(a,b):\n",
    "    c=a+b\n",
    "    return c\n",
    "x=add(6,7)\n",
    "print(x)"
   ]
  },
  {
   "cell_type": "code",
   "execution_count": 18,
   "id": "07c44b67",
   "metadata": {},
   "outputs": [
    {
     "data": {
      "text/plain": [
       "11"
      ]
     },
     "execution_count": 18,
     "metadata": {},
     "output_type": "execute_result"
    }
   ],
   "source": [
    "class Add:\n",
    "    def add(self,a,b):\n",
    "        c=a+b\n",
    "        return c\n",
    "    \n",
    "a=5\n",
    "b=6\n",
    "        \n",
    "ob=Add()\n",
    "ob.add(a,b)"
   ]
  },
  {
   "cell_type": "code",
   "execution_count": null,
   "id": "7c61b806",
   "metadata": {},
   "outputs": [],
   "source": [
    "more about return type - multiple return vaues"
   ]
  },
  {
   "cell_type": "code",
   "execution_count": 19,
   "id": "ad53f980",
   "metadata": {},
   "outputs": [
    {
     "name": "stdout",
     "output_type": "stream",
     "text": [
      "11\n"
     ]
    }
   ],
   "source": [
    "def add(a,b):\n",
    "    c=a+b\n",
    "    return a,b,c\n",
    "\n",
    "a=5\n",
    "b=6\n",
    "a,b,x=add(a,b)\n",
    "print(x)"
   ]
  },
  {
   "cell_type": "code",
   "execution_count": 21,
   "id": "34dd201c",
   "metadata": {},
   "outputs": [
    {
     "name": "stdout",
     "output_type": "stream",
     "text": [
      "(5, 6, 11)\n"
     ]
    }
   ],
   "source": [
    "def add(a,b):\n",
    "    c=a+b\n",
    "    return a,b,c\n",
    "a=5\n",
    "b=6\n",
    "x=add(a,b)\n",
    "print(x)"
   ]
  },
  {
   "cell_type": "code",
   "execution_count": null,
   "id": "475b4ef4",
   "metadata": {},
   "outputs": [],
   "source": [
    "Default arguments\n"
   ]
  },
  {
   "cell_type": "code",
   "execution_count": 22,
   "id": "adfa1987",
   "metadata": {},
   "outputs": [
    {
     "name": "stdout",
     "output_type": "stream",
     "text": [
      "12\n"
     ]
    }
   ],
   "source": [
    "def add(a,b=7):\n",
    "    c =a+b\n",
    "    return c\n",
    "a=5\n",
    "b=6\n",
    "x=add(a)\n",
    "print(x)"
   ]
  },
  {
   "cell_type": "code",
   "execution_count": 23,
   "id": "bd6fa34d",
   "metadata": {},
   "outputs": [
    {
     "name": "stdout",
     "output_type": "stream",
     "text": [
      "9\n"
     ]
    }
   ],
   "source": [
    "def add(a,b=7):\n",
    "    c=a+b\n",
    "    return c\n",
    "a=5\n",
    "b=4\n",
    "x=add(a,b)\n",
    "print(x)"
   ]
  },
  {
   "cell_type": "code",
   "execution_count": 25,
   "id": "9b24e463",
   "metadata": {},
   "outputs": [
    {
     "ename": "SyntaxError",
     "evalue": "invalid syntax (<ipython-input-25-e3a5e63a69ff>, line 1)",
     "output_type": "error",
     "traceback": [
      "\u001b[0;36m  File \u001b[0;32m\"<ipython-input-25-e3a5e63a69ff>\"\u001b[0;36m, line \u001b[0;32m1\u001b[0m\n\u001b[0;31m    Passing datastructurs\u001b[0m\n\u001b[0m            ^\u001b[0m\n\u001b[0;31mSyntaxError\u001b[0m\u001b[0;31m:\u001b[0m invalid syntax\n"
     ]
    }
   ],
   "source": [
    "Passing datastructurs"
   ]
  },
  {
   "cell_type": "code",
   "execution_count": 26,
   "id": "16e27190",
   "metadata": {},
   "outputs": [
    {
     "name": "stdout",
     "output_type": "stream",
     "text": [
      "[3, 4, 5, 8, 99, 'a', 11]\n"
     ]
    }
   ],
   "source": [
    "def add(a):\n",
    "    a.append(11)\n",
    "    return a\n",
    "a=[3,4,5,8,99,'a']\n",
    "x=add(a)\n",
    "print(x)"
   ]
  },
  {
   "cell_type": "code",
   "execution_count": null,
   "id": "0352f8c2",
   "metadata": {},
   "outputs": [],
   "source": [
    "exercise\n",
    "using fuction\n",
    "use pi as default argument\n",
    "1.area of triangle\n",
    "2.volume of a sphere\n",
    "3.celcius to fahrenheit\n",
    "pass list and do"
   ]
  },
  {
   "cell_type": "code",
   "execution_count": 2,
   "id": "d17be6a2",
   "metadata": {},
   "outputs": [
    {
     "name": "stdout",
     "output_type": "stream",
     "text": [
      "enter the value of Breadth55\n",
      "enter the value of height55\n"
     ]
    },
    {
     "data": {
      "text/plain": [
       "1512.5"
      ]
     },
     "execution_count": 2,
     "metadata": {},
     "output_type": "execute_result"
    }
   ],
   "source": [
    "class Area:\n",
    "    def area(self,b,h):\n",
    "        a=(1/2)*b*h\n",
    "        return a\n",
    "b=int(input(\"enter the value of Breadth\"))\n",
    "h=int(input(\"enter the value of height\"))\n",
    "\n",
    "ar=Area()\n",
    "ar.area(b,h)"
   ]
  },
  {
   "cell_type": "code",
   "execution_count": 3,
   "id": "a4e6f900",
   "metadata": {},
   "outputs": [
    {
     "name": "stdout",
     "output_type": "stream",
     "text": [
      "12.559999999999999\n"
     ]
    }
   ],
   "source": [
    "#volume of sphere\n",
    "def volume(r):\n",
    "    s=(4/3)*3.14*r\n",
    "    return s\n",
    "x=volume(3)\n",
    "print(x)"
   ]
  },
  {
   "cell_type": "code",
   "execution_count": 4,
   "id": "e732304e",
   "metadata": {},
   "outputs": [
    {
     "name": "stdout",
     "output_type": "stream",
     "text": [
      "enter the celcius32\n"
     ]
    },
    {
     "data": {
      "text/plain": [
       "89.6"
      ]
     },
     "execution_count": 4,
     "metadata": {},
     "output_type": "execute_result"
    }
   ],
   "source": [
    "# celcius to fahernheit\n",
    "class Celcius:\n",
    "    def celcius(self,a):\n",
    "        f=(a*9/5)+32\n",
    "        return f\n",
    "a=int(input(\"enter the celcius\"))\n",
    "\n",
    "ob=Celcius()\n",
    "ob.celcius(a)"
   ]
  }
 ],
 "metadata": {
  "kernelspec": {
   "display_name": "Python 3",
   "language": "python",
   "name": "python3"
  },
  "language_info": {
   "codemirror_mode": {
    "name": "ipython",
    "version": 3
   },
   "file_extension": ".py",
   "mimetype": "text/x-python",
   "name": "python",
   "nbconvert_exporter": "python",
   "pygments_lexer": "ipython3",
   "version": "3.8.8"
  }
 },
 "nbformat": 4,
 "nbformat_minor": 5
}
