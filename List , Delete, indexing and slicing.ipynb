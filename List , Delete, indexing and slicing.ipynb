{
 "cells": [
  {
   "cell_type": "code",
   "execution_count": 1,
   "id": "a66e2498",
   "metadata": {},
   "outputs": [
    {
     "name": "stdout",
     "output_type": "stream",
     "text": [
      "<class 'list'>\n"
     ]
    }
   ],
   "source": [
    "#creating empty list\n",
    "List=[]\n",
    "print(type(List))"
   ]
  },
  {
   "cell_type": "code",
   "execution_count": 4,
   "id": "8a8d702b",
   "metadata": {},
   "outputs": [
    {
     "name": "stdout",
     "output_type": "stream",
     "text": [
      "['hello', 1, 5.85, True]\n"
     ]
    }
   ],
   "source": [
    "#Creating list with multiple values\n",
    "List=[\"hello\",1,5.85,True]\n",
    "print(List)"
   ]
  },
  {
   "cell_type": "code",
   "execution_count": 5,
   "id": "6bb7c53c",
   "metadata": {},
   "outputs": [
    {
     "name": "stdout",
     "output_type": "stream",
     "text": [
      "True\n"
     ]
    }
   ],
   "source": [
    "#Fetching value from list\n",
    "List=[\"hello\",1,5.85,True]\n",
    "print(List[3])"
   ]
  },
  {
   "cell_type": "code",
   "execution_count": 11,
   "id": "8b8f8175",
   "metadata": {},
   "outputs": [
    {
     "name": "stdout",
     "output_type": "stream",
     "text": [
      "viper\n",
      "optimus\n",
      "9\n"
     ]
    }
   ],
   "source": [
    "#nested list\n",
    "List=[['hari','viper'],['optimus','autobots'],['maeve','otis']]\n",
    "print(List[0][1])\n",
    "print(List[1][0])\n",
    "a=[1,2,3,4,5,[5,6,7,8,9]]\n",
    "print(a[5][4])"
   ]
  },
  {
   "cell_type": "code",
   "execution_count": 9,
   "id": "6e8b8365",
   "metadata": {},
   "outputs": [
    {
     "name": "stdout",
     "output_type": "stream",
     "text": [
      "[5, 5, 5, 5]\n",
      "autobotsautobotsautobotsautobotsautobots\n"
     ]
    }
   ],
   "source": [
    "#Repeating list\n",
    "a=[5]\n",
    "print(a*4)\n",
    "b=\"autobots\"\n",
    "print(b*5)"
   ]
  },
  {
   "cell_type": "code",
   "execution_count": 14,
   "id": "cf122b22",
   "metadata": {},
   "outputs": [
    {
     "name": "stdout",
     "output_type": "stream",
     "text": [
      "['hari', 'razor', 'taz']\n",
      "[1, 2, 3, 4, 5, [5, 6, 7, 8, 22]]\n",
      "[['hari', 'viper'], ['optimus', 'autobots'], ['Ron', 'otis']]\n"
     ]
    }
   ],
   "source": [
    "#Replacing a value\n",
    "List=[\"hari\",'razor',5.85]\n",
    "List[2]='taz'\n",
    "print(List)\n",
    "a=[1,2,3,4,5,[5,6,7,8,9]]\n",
    "a[5][4]=22\n",
    "print(a)\n",
    "b=[['hari','viper'],['optimus','autobots'],['maeve','otis']]\n",
    "b[2][0]=\"Ron\"\n",
    "print(b)"
   ]
  },
  {
   "cell_type": "code",
   "execution_count": null,
   "id": "6cdbcb36",
   "metadata": {},
   "outputs": [],
   "source": []
  },
  {
   "cell_type": "code",
   "execution_count": 15,
   "id": "d458a5b5",
   "metadata": {},
   "outputs": [
    {
     "name": "stdout",
     "output_type": "stream",
     "text": [
      "[1, 2, 3, 4]\n"
     ]
    }
   ],
   "source": [
    "#appending a List\n",
    "a=[]\n",
    "a.append(1)\n",
    "a.append(2)\n",
    "a.append(3)\n",
    "a.append(4)\n",
    "print(a)\n"
   ]
  },
  {
   "cell_type": "code",
   "execution_count": 19,
   "id": "00eaa3ee",
   "metadata": {},
   "outputs": [
    {
     "name": "stdout",
     "output_type": "stream",
     "text": [
      "[1, 2, 3, 4, [5, 6, 7], [66, 77, 88]]\n"
     ]
    }
   ],
   "source": [
    "#appending alist \n",
    "a=[1,2,3,4,[5,6,7]]\n",
    "b=[66,77,88]\n",
    "a.append(b)\n",
    "print(a)"
   ]
  },
  {
   "cell_type": "code",
   "execution_count": 20,
   "id": "2301508b",
   "metadata": {},
   "outputs": [
    {
     "name": "stdout",
     "output_type": "stream",
     "text": [
      "[1, 2, 3, 4, [5, 6, 7], 66, 77, 88]\n"
     ]
    }
   ],
   "source": [
    "#extending a list\n",
    "a=[1,2,3,4,[5,6,7]]\n",
    "b=[66,77,88]\n",
    "a.extend(b)\n",
    "print(a)"
   ]
  },
  {
   "cell_type": "code",
   "execution_count": 30,
   "id": "12883e7a",
   "metadata": {},
   "outputs": [
    {
     "data": {
      "text/plain": [
       "3"
      ]
     },
     "execution_count": 30,
     "metadata": {},
     "output_type": "execute_result"
    }
   ],
   "source": [
    "#length of string\n",
    "a=\"hello\"\n",
    "len(a)\n",
    "#length of string using nested\n",
    "b=[['hari','viper'],['optimus','autobots'],['maeve','otis']]\n",
    "len(b)\n"
   ]
  },
  {
   "cell_type": "code",
   "execution_count": 31,
   "id": "71bffe56",
   "metadata": {},
   "outputs": [
    {
     "data": {
      "text/plain": [
       "4"
      ]
     },
     "execution_count": 31,
     "metadata": {},
     "output_type": "execute_result"
    }
   ],
   "source": [
    "#counting a list\n",
    "List=[1,2,3,3,3,3,4,5,6,78]\n",
    "List.count(3)\n"
   ]
  },
  {
   "cell_type": "code",
   "execution_count": 32,
   "id": "80ee1380",
   "metadata": {},
   "outputs": [
    {
     "name": "stdout",
     "output_type": "stream",
     "text": [
      "['optimus', 'autobots', 'megatron']\n"
     ]
    }
   ],
   "source": [
    "#instering a value in list\n",
    "List=['optimus','autobots']\n",
    "List.insert(2,'megatron')\n",
    "print(List)"
   ]
  },
  {
   "cell_type": "code",
   "execution_count": 52,
   "id": "cf69839d",
   "metadata": {},
   "outputs": [
    {
     "name": "stdout",
     "output_type": "stream",
     "text": [
      "[1, 2, 3]\n",
      "[1, 4]\n",
      "[1, 2, 2, 2, 2, 4, 5, 5, 6]\n"
     ]
    }
   ],
   "source": [
    "#delete\n",
    "#pop\n",
    "#del\n",
    "#remove\n",
    "List=[1,2,3,4]\n",
    "List.pop(3)\n",
    "print(List)\n",
    "#Del\n",
    "List1=[1,2,3,4]\n",
    "del List1[2]\n",
    "print(List1)\n",
    "#Remove\n",
    "List2=[1,2,2,2,2,2,4,5,5,6]\n",
    "List2.remove(2)\n",
    "print(List2)\n"
   ]
  },
  {
   "cell_type": "code",
   "execution_count": 53,
   "id": "e7eab3c1",
   "metadata": {},
   "outputs": [
    {
     "name": "stdout",
     "output_type": "stream",
     "text": [
      "[1, 4]\n"
     ]
    }
   ],
   "source": [
    "#indexing and slicing\n",
    "List1=[1,2,3,4]\n",
    "del List1[1:-1]\n",
    "print(List1)"
   ]
  },
  {
   "cell_type": "code",
   "execution_count": 55,
   "id": "4d2ec3f3",
   "metadata": {},
   "outputs": [
    {
     "name": "stdout",
     "output_type": "stream",
     "text": [
      "3\n"
     ]
    },
    {
     "data": {
      "text/plain": [
       "2"
      ]
     },
     "execution_count": 55,
     "metadata": {},
     "output_type": "execute_result"
    }
   ],
   "source": [
    "#fetching a value from index location\n",
    "List1=[1,2,3,4]\n",
    "print(List1[2])\n",
    "a=[1,2,3,45,6]\n",
    "a.index(3)"
   ]
  },
  {
   "cell_type": "code",
   "execution_count": 57,
   "id": "e472d257",
   "metadata": {},
   "outputs": [
    {
     "name": "stdout",
     "output_type": "stream",
     "text": [
      "True\n",
      "False\n"
     ]
    }
   ],
   "source": [
    "#to check a list is empty or not\n",
    "a=[1,3,56,7,8]\n",
    "print(any(a))\n",
    "b=[]\n",
    "print(any(b))"
   ]
  },
  {
   "cell_type": "code",
   "execution_count": 64,
   "id": "ab9506e8",
   "metadata": {},
   "outputs": [
    {
     "name": "stdout",
     "output_type": "stream",
     "text": [
      "83\n",
      "67\n",
      "1\n"
     ]
    }
   ],
   "source": [
    "#summing,max,min a list\n",
    "a=[1,3,5,67,7]\n",
    "print(sum(a))\n",
    "b=[1,3,5,67,7]\n",
    "print(max(b))\n",
    "c=[1,3,5,67,7]\n",
    "print(min(c))"
   ]
  },
  {
   "cell_type": "code",
   "execution_count": 68,
   "id": "84ddaa06",
   "metadata": {},
   "outputs": [
    {
     "name": "stdout",
     "output_type": "stream",
     "text": [
      "[1, 3, 5, 7, 67]\n"
     ]
    }
   ],
   "source": [
    "#sorting a list ascending and descending\n",
    "#ascending\n",
    "a=[1,3,5,67,7]\n",
    "print(sorted(a))"
   ]
  },
  {
   "cell_type": "code",
   "execution_count": 72,
   "id": "eb58e0f2",
   "metadata": {},
   "outputs": [
    {
     "name": "stdout",
     "output_type": "stream",
     "text": [
      "[67, 7, 5, 3, 1]\n"
     ]
    }
   ],
   "source": [
    "#descending\n",
    "b=[1,3,5,67,7]\n",
    "b=sorted(b,reverse=True)\n",
    "print(b)"
   ]
  },
  {
   "cell_type": "code",
   "execution_count": 75,
   "id": "922e11b3",
   "metadata": {},
   "outputs": [
    {
     "name": "stdout",
     "output_type": "stream",
     "text": [
      "{(5, 7), (2, 4), (1, 2), (3, 5)}\n"
     ]
    }
   ],
   "source": [
    "#zipping a list\n",
    "a=[1,2,3,5]\n",
    "b=[2,4,5,7]\n",
    "c=zip(a,b)\n",
    "print(set(c))"
   ]
  },
  {
   "cell_type": "code",
   "execution_count": 86,
   "id": "4124a3f6",
   "metadata": {},
   "outputs": [
    {
     "name": "stdout",
     "output_type": "stream",
     "text": [
      "[1, 2, 4, 5, 7, 8]\n"
     ]
    }
   ],
   "source": [
    "#copying a list\n",
    "a=[1,2,4,5,7,8]\n",
    "b=a.copy()\n",
    "print(b)\n"
   ]
  },
  {
   "cell_type": "code",
   "execution_count": 90,
   "id": "c027a2e7",
   "metadata": {},
   "outputs": [
    {
     "name": "stdout",
     "output_type": "stream",
     "text": [
      "[4, 5, 6, 7, 2, 4, 5, 7]\n"
     ]
    }
   ],
   "source": [
    "#concadination list\n",
    "a=[4,5,6,7]\n",
    "b=[2,4,5,7]\n",
    "c=a+b\n",
    "print(c)"
   ]
  },
  {
   "cell_type": "code",
   "execution_count": 94,
   "id": "b97ad1b3",
   "metadata": {},
   "outputs": [
    {
     "name": "stdout",
     "output_type": "stream",
     "text": [
      "false\n"
     ]
    }
   ],
   "source": [
    "#checking a value in a list\n",
    "a=[2,4,5,7]\n",
    "if 6 in a:\n",
    "    print(\"True\")\n",
    "else :\n",
    "    print(\"false\")"
   ]
  },
  {
   "cell_type": "code",
   "execution_count": 95,
   "id": "de9d6f26",
   "metadata": {},
   "outputs": [
    {
     "name": "stdout",
     "output_type": "stream",
     "text": [
      "2\n",
      "4\n",
      "5\n",
      "7\n"
     ]
    }
   ],
   "source": [
    "#column wise printing\n",
    "b=[2,4,5,7]\n",
    "for x in b:\n",
    "    print(x)"
   ]
  },
  {
   "cell_type": "code",
   "execution_count": 88,
   "id": "0d7c5a90",
   "metadata": {},
   "outputs": [
    {
     "name": "stdout",
     "output_type": "stream",
     "text": [
      "(4, 5, 6, 7)\n"
     ]
    }
   ],
   "source": [
    "#converting a List to tuple\n",
    "a=[4,5,6,7]\n",
    "b=tuple(a)\n",
    "print(b)"
   ]
  }
 ],
 "metadata": {
  "kernelspec": {
   "display_name": "Python 3",
   "language": "python",
   "name": "python3"
  },
  "language_info": {
   "codemirror_mode": {
    "name": "ipython",
    "version": 3
   },
   "file_extension": ".py",
   "mimetype": "text/x-python",
   "name": "python",
   "nbconvert_exporter": "python",
   "pygments_lexer": "ipython3",
   "version": "3.8.8"
  }
 },
 "nbformat": 4,
 "nbformat_minor": 5
}
