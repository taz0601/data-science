{
 "cells": [
  {
   "cell_type": "code",
   "execution_count": 1,
   "id": "9df5e019",
   "metadata": {},
   "outputs": [
    {
     "name": "stdout",
     "output_type": "stream",
     "text": [
      "5\n",
      "5\n"
     ]
    }
   ],
   "source": [
    "#declaring a\n",
    "a=5\n",
    "print(a)\n",
    "'''A paragraph is a series of related sentences developing a central idea, called the topic. Try to think about paragraphs in terms of thematic unity: a paragraph is a sentence or a group of sentences that supports one central, unified idea. Paragraphs add one idea at a time to your broader argument.'''\n",
    "b=5\n",
    "print(b)"
   ]
  },
  {
   "cell_type": "code",
   "execution_count": 7,
   "id": "ac2763e1",
   "metadata": {},
   "outputs": [
    {
     "data": {
      "text/plain": [
       "['h', 'e', 'l', 'l', 'o']"
      ]
     },
     "execution_count": 7,
     "metadata": {},
     "output_type": "execute_result"
    }
   ],
   "source": [
    "a=\"welcome to Besant Besant besant\"\n",
    "a.replace(\"Besant\",\"besant\")\n",
    "b=\"hello\"\n",
    "list(b)"
   ]
  },
  {
   "cell_type": "code",
   "execution_count": null,
   "id": "5a7c6faa",
   "metadata": {},
   "outputs": [],
   "source": []
  },
  {
   "cell_type": "code",
   "execution_count": 4,
   "id": "547e1d9e",
   "metadata": {},
   "outputs": [
    {
     "name": "stdout",
     "output_type": "stream",
     "text": [
      "<class 'int'>\n",
      "<class 'str'>\n",
      "<class 'float'>\n",
      "<class 'complex'>\n",
      "<class 'bool'>\n"
     ]
    }
   ],
   "source": [
    "a=5\n",
    "b=\"viper\"\n",
    "c=5.4\n",
    "d=3+5j\n",
    "e=True\n",
    "print(type(a))\n",
    "print(type(b))\n",
    "print(type(c))\n",
    "print(type(d))\n",
    "print(type(e))"
   ]
  },
  {
   "cell_type": "code",
   "execution_count": 17,
   "id": "9e1dc770",
   "metadata": {},
   "outputs": [
    {
     "name": "stdout",
     "output_type": "stream",
     "text": [
      "a\n",
      "r\n"
     ]
    }
   ],
   "source": [
    "a=\"hari\"\n",
    "print(a[1])\n",
    "b='hi i\\'m hariprasad from chennai'\n",
    "print(b[-11])"
   ]
  },
  {
   "cell_type": "code",
   "execution_count": 21,
   "id": "24bcc859",
   "metadata": {},
   "outputs": [
    {
     "data": {
      "text/plain": [
       "6"
      ]
     },
     "execution_count": 21,
     "metadata": {},
     "output_type": "execute_result"
    }
   ],
   "source": [
    "a=\"vipers\"\n",
    "len(a)\n"
   ]
  },
  {
   "cell_type": "code",
   "execution_count": 24,
   "id": "f332849f",
   "metadata": {},
   "outputs": [
    {
     "data": {
      "text/plain": [
       "'vipers'"
      ]
     },
     "execution_count": 24,
     "metadata": {},
     "output_type": "execute_result"
    }
   ],
   "source": [
    "a.upper()\n",
    "a.lower()\n"
   ]
  },
  {
   "cell_type": "code",
   "execution_count": 28,
   "id": "e766f2b8",
   "metadata": {},
   "outputs": [
    {
     "data": {
      "text/plain": [
       "'Viser'"
      ]
     },
     "execution_count": 28,
     "metadata": {},
     "output_type": "execute_result"
    }
   ],
   "source": [
    "a=\"Viper\"\n",
    "a.replace(\"p\",\"s\")"
   ]
  },
  {
   "cell_type": "code",
   "execution_count": 29,
   "id": "8f72d429",
   "metadata": {},
   "outputs": [
    {
     "data": {
      "text/plain": [
       "'hi hari im sara'"
      ]
     },
     "execution_count": 29,
     "metadata": {},
     "output_type": "execute_result"
    }
   ],
   "source": [
    "a=\"hi hari im viper\"\n",
    "a.replace(\"viper\",\"sara\")"
   ]
  },
  {
   "cell_type": "markdown",
   "id": "50c95cdb",
   "metadata": {},
   "source": [
    "a=\"viper is viper viper is good viper\"\n",
    "a.count(\"viper\")"
   ]
  },
  {
   "cell_type": "code",
   "execution_count": 30,
   "id": "f600d9d6",
   "metadata": {},
   "outputs": [
    {
     "data": {
      "text/plain": [
       "'vippr'"
      ]
     },
     "execution_count": 30,
     "metadata": {},
     "output_type": "execute_result"
    }
   ],
   "source": [
    "a=\"viper\"\n",
    "a.replace(a[3],a[2])"
   ]
  },
  {
   "cell_type": "code",
   "execution_count": 41,
   "id": "72461475",
   "metadata": {},
   "outputs": [
    {
     "data": {
      "text/plain": [
       "['hi', 'im', 'siri']"
      ]
     },
     "execution_count": 41,
     "metadata": {},
     "output_type": "execute_result"
    }
   ],
   "source": [
    "a=\"h,i,im,s,i,r,i\"\n",
    "a.split(\",\")\n",
    "b=\"hi im siri\"\n",
    "b.split(\" \")"
   ]
  },
  {
   "cell_type": "code",
   "execution_count": null,
   "id": "d20b34cf",
   "metadata": {},
   "outputs": [],
   "source": []
  },
  {
   "cell_type": "code",
   "execution_count": 27,
   "id": "c3e0f6d1",
   "metadata": {},
   "outputs": [
    {
     "name": "stdout",
     "output_type": "stream",
     "text": [
      "i\n",
      "Hari\n"
     ]
    },
    {
     "data": {
      "text/plain": [
       "'Hari'"
      ]
     },
     "execution_count": 27,
     "metadata": {},
     "output_type": "execute_result"
    }
   ],
   "source": [
    "a=\"Viper\"\n",
    "print(a[1])\n",
    "input()"
   ]
  }
 ],
 "metadata": {
  "kernelspec": {
   "display_name": "Python 3",
   "language": "python",
   "name": "python3"
  },
  "language_info": {
   "codemirror_mode": {
    "name": "ipython",
    "version": 3
   },
   "file_extension": ".py",
   "mimetype": "text/x-python",
   "name": "python",
   "nbconvert_exporter": "python",
   "pygments_lexer": "ipython3",
   "version": "3.8.8"
  }
 },
 "nbformat": 4,
 "nbformat_minor": 5
}
