{
 "cells": [
  {
   "cell_type": "code",
   "execution_count": 31,
   "id": "e1ccba5b",
   "metadata": {},
   "outputs": [
    {
     "name": "stdout",
     "output_type": "stream",
     "text": [
      "11\n"
     ]
    }
   ],
   "source": [
    "a=5\n",
    "b=6\n",
    "c=a+b\n",
    "print(c)\n"
   ]
  },
  {
   "cell_type": "code",
   "execution_count": 19,
   "id": "c771729e",
   "metadata": {},
   "outputs": [
    {
     "name": "stdout",
     "output_type": "stream",
     "text": [
      "12\n",
      "60\n",
      "54\n",
      "2916\n"
     ]
    }
   ],
   "source": [
    "a=7\n",
    "a+=5\n",
    "print(a)\n",
    "a*=5\n",
    "print(a)\n",
    "a-=6\n",
    "print(a)\n",
    "a**=2\n",
    "print(a)\n",
    "Assignment "
   ]
  },
  {
   "cell_type": "code",
   "execution_count": 30,
   "id": "7d6f91a8",
   "metadata": {},
   "outputs": [
    {
     "name": "stdout",
     "output_type": "stream",
     "text": [
      "True\n"
     ]
    }
   ],
   "source": [
    "a=[\"apple\",\"orange\"]\n",
    "print(\"orange\"in a)"
   ]
  },
  {
   "cell_type": "code",
   "execution_count": 26,
   "id": "52eded70",
   "metadata": {},
   "outputs": [
    {
     "name": "stdout",
     "output_type": "stream",
     "text": [
      "False\n",
      "True\n"
     ]
    }
   ],
   "source": [
    "a=6\n",
    "b=5\n",
    "c=a\n",
    "print(a is b)\n",
    "print(a is c)\n",
    "identity operator"
   ]
  },
  {
   "cell_type": "code",
   "execution_count": null,
   "id": "9ec6f21c",
   "metadata": {},
   "outputs": [],
   "source": []
  },
  {
   "cell_type": "code",
   "execution_count": 24,
   "id": "8a78063b",
   "metadata": {},
   "outputs": [
    {
     "name": "stdout",
     "output_type": "stream",
     "text": [
      "False\n"
     ]
    }
   ],
   "source": [
    "a=8\n",
    "print(a>3 and a<5)\n",
    "Logical"
   ]
  },
  {
   "cell_type": "code",
   "execution_count": 23,
   "id": "9e6aa257",
   "metadata": {},
   "outputs": [
    {
     "name": "stdout",
     "output_type": "stream",
     "text": [
      "False\n",
      "False\n",
      "True\n"
     ]
    }
   ],
   "source": [
    "a=2\n",
    "b=5\n",
    "print(a==b)\n",
    "print(a>b)\n",
    "print(a<b)\n",
    "Comparison"
   ]
  },
  {
   "cell_type": "code",
   "execution_count": 12,
   "id": "3b485865",
   "metadata": {},
   "outputs": [
    {
     "name": "stdout",
     "output_type": "stream",
     "text": [
      "15\n",
      "5\n",
      "3\n",
      "4\n",
      "4.0\n",
      "0\n",
      "99\n",
      "99\n"
     ]
    }
   ],
   "source": [
    "print(10+5)\n",
    "a=4\n",
    "b=1\n",
    "print(a+b)\n",
    "print(a-b)\n",
    "print(a*b)\n",
    "print(a/b)\n",
    "print(a%b)\n",
    "print(99%100)\n",
    "print(99%1000)\n",
    "Arithmetic"
   ]
  }
 ],
 "metadata": {
  "kernelspec": {
   "display_name": "Python 3",
   "language": "python",
   "name": "python3"
  },
  "language_info": {
   "codemirror_mode": {
    "name": "ipython",
    "version": 3
   },
   "file_extension": ".py",
   "mimetype": "text/x-python",
   "name": "python",
   "nbconvert_exporter": "python",
   "pygments_lexer": "ipython3",
   "version": "3.8.8"
  }
 },
 "nbformat": 4,
 "nbformat_minor": 5
}
