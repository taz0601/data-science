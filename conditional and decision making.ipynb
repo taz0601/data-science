{
 "cells": [
  {
   "cell_type": "code",
   "execution_count": null,
   "id": "baed538f",
   "metadata": {},
   "outputs": [],
   "source": [
    "#Questions\n",
    "1.voting is elgibile or not\n",
    "2.prime or not a prime number\n",
    "3.wether divisble by 5 or not"
   ]
  },
  {
   "cell_type": "markdown",
   "id": "fad0706c",
   "metadata": {},
   "source": [
    "# A person can Vote or Not"
   ]
  },
  {
   "cell_type": "code",
   "execution_count": null,
   "id": "166e3e73",
   "metadata": {},
   "outputs": [],
   "source": [
    "a=int(input(\"enter your age\"))\n",
    "if a > 25:\n",
    "    print(\"You are Elgible\")\n",
    "else:\n",
    "    print(\"Not eligible\")\n"
   ]
  },
  {
   "cell_type": "markdown",
   "id": "050f3e52",
   "metadata": {},
   "source": [
    "# prime number or not"
   ]
  },
  {
   "cell_type": "code",
   "execution_count": null,
   "id": "34c5ebcc",
   "metadata": {},
   "outputs": [],
   "source": [
    "a=int(input(\"enter the number\"))\n",
    "if a%a==1:\n",
    "    print(\"its  a prime number\")\n",
    "else:\n",
    "    print(\"its not a prime number\")"
   ]
  },
  {
   "cell_type": "markdown",
   "id": "e778ab40",
   "metadata": {},
   "source": [
    "# a company decides to give 5% hike to the employee for his service more than 5 yrs Ask the salary and year of exp and print the bonus amount"
   ]
  },
  {
   "cell_type": "code",
   "execution_count": null,
   "id": "f7e94e71",
   "metadata": {},
   "outputs": [],
   "source": [
    "exp=int(input(\"enter year of experience \"))\n",
    "if exp >= 5:\n",
    "    salary=int(input(\"enter the salary \"))\n",
    "    salary=(salary*5)/100\n",
    "    print(\"The salary is\",salary)\n",
    "else:\n",
    "    print(\"there is no hike better luck next time\")\n"
   ]
  },
  {
   "cell_type": "markdown",
   "id": "ef00d027",
   "metadata": {},
   "source": [
    "# take 2 int values from the user and check the maximum value among them"
   ]
  },
  {
   "cell_type": "code",
   "execution_count": 29,
   "id": "73c76dc8",
   "metadata": {},
   "outputs": [
    {
     "name": "stdout",
     "output_type": "stream",
     "text": [
      "enter the a 7\n",
      "enter the b 5\n",
      "a is larger\n"
     ]
    }
   ],
   "source": [
    "a=int(input(\"enter the a \"))\n",
    "b=int(input(\"enter the b \"))\n",
    "if a > b:\n",
    "    print(\"a is larger\")\n",
    "else:\n",
    "    print(\"a is smaller\")"
   ]
  },
  {
   "cell_type": "markdown",
   "id": "7d3788fe",
   "metadata": {},
   "source": [
    "# shop has given a 10% discount if cost of purschased quantity is more than 1000 ask the quantity"
   ]
  },
  {
   "cell_type": "code",
   "execution_count": 34,
   "id": "a9dd40ac",
   "metadata": {},
   "outputs": [
    {
     "name": "stdout",
     "output_type": "stream",
     "text": [
      "enter the quantity 20\n",
      "the total amount  1800.0\n"
     ]
    }
   ],
   "source": [
    "quantity=int(input(\"enter the quantity \"))\n",
    "if quantity*100 > 1000:\n",
    "    tc=(quantity*100)-(0.1*quantity*100)\n",
    "    print(\"the total amount \",tc)\n",
    "else:\n",
    "    print(\"not eligible\")"
   ]
  },
  {
   "cell_type": "markdown",
   "id": "ce6e277c",
   "metadata": {},
   "source": [
    "# a school has following rules for grading system below 25 fail 25-45 print e grade 45-50 d grade 50-60 c 60-80 b above 80 a\n"
   ]
  },
  {
   "cell_type": "code",
   "execution_count": 2,
   "id": "7c9f618b",
   "metadata": {},
   "outputs": [
    {
     "name": "stdout",
     "output_type": "stream",
     "text": [
      "enter your mark 60\n",
      "your grade is B\n"
     ]
    }
   ],
   "source": [
    "mark=int(input(\"enter your mark \"))\n",
    "if mark >= 80:\n",
    "    print(\"your grade is A\")\n",
    "elif mark >= 60 and mark < 80:\n",
    "    print(\"your grade is B\")\n",
    "elif mark >= 50 and mark < 60:\n",
    "    print(\"your grade is C\")\n",
    "elif mark >= 45 and mark < 50:\n",
    "    print(\"your grade is D\")\n",
    "elif mark >= 25 and mark < 45:\n",
    "    print(\"your grade is E\")\n",
    "else:\n",
    "    print(\"you have failed\")\n",
    "\n",
    "\n",
    "\n",
    "   "
   ]
  },
  {
   "cell_type": "markdown",
   "id": "c868c8a2",
   "metadata": {},
   "source": [
    "# take ip of 3 people and determine oldest and youngest among them"
   ]
  },
  {
   "cell_type": "code",
   "execution_count": 45,
   "id": "53d7ef68",
   "metadata": {},
   "outputs": [
    {
     "name": "stdout",
     "output_type": "stream",
     "text": [
      "enter the age of man1 50\n",
      "enter the age of man2 20\n",
      "enter the age of man3 10\n",
      "man 1 is Elder\n",
      "man 3 is youngest\n"
     ]
    }
   ],
   "source": [
    "man1=int(input(\"enter the age of man1 \"))\n",
    "man2=int(input(\"enter the age of man2 \"))\n",
    "man3=int(input(\"enter the age of man3 \"))\n",
    "if man1 > man2 and man1 > man3:\n",
    "    print(\"man 1 is Elder\")\n",
    "else:\n",
    "    print(\"man 1 is youngest\")\n",
    "if man2 > man1 and man2 > man3:\n",
    "    print(\"man 2 is elder\")\n",
    "elif man2 < man1 and man2 < man3:\n",
    "    print(\"man 2 is youngest\")\n",
    "if man3 > man1 and man3 > man1:\n",
    "    print(\"man 3 is elder \")\n",
    "elif man3 < man1 and man3 < man2:\n",
    "    print(\"man 3 is youngest\")\n"
   ]
  },
  {
   "cell_type": "markdown",
   "id": "333a723c",
   "metadata": {},
   "source": [
    "# a student will not b allowed to sit inside the exam hall if his attendence less than 75% take the following input form the user\n",
    "1.total classes held\n",
    "2.number of classes attened by the student\n",
    "3.calculate the no of class attended by the student and print wether they are allowed or not"
   ]
  },
  {
   "cell_type": "code",
   "execution_count": 4,
   "id": "c7002bc3",
   "metadata": {},
   "outputs": [
    {
     "name": "stdout",
     "output_type": "stream",
     "text": [
      "No of classes of held 40\n",
      "No of classes attended by the student 40\n",
      "The student is allowed to write the exam\n"
     ]
    }
   ],
   "source": [
    "a=float(input(\"No of classes of held \"))#classes held\n",
    "b=float(input(\"No of classes attended by the student \"))#no.of.classes attended\n",
    "c=(b/a)*100\n",
    "if c > 75:\n",
    "    print(\"The student is allowed to write the exam\")\n",
    "else:\n",
    "    print(\"the student is not allowed to write the exam\")"
   ]
  },
  {
   "cell_type": "markdown",
   "id": "3be05533",
   "metadata": {},
   "source": [
    "# take values of rectangle length and breadth form the user and check wether its a square or not"
   ]
  },
  {
   "cell_type": "code",
   "execution_count": 6,
   "id": "bde5b6f1",
   "metadata": {},
   "outputs": [
    {
     "name": "stdout",
     "output_type": "stream",
     "text": [
      "2\n",
      "2\n",
      "the given is a square\n"
     ]
    }
   ],
   "source": [
    "side1=int(input())\n",
    "side2=int(input())\n",
    "if side1 == side2:\n",
    "    print(\"the given is a square\")\n",
    "else:\n",
    "    print(\"the given is not a square\")"
   ]
  },
  {
   "cell_type": "markdown",
   "id": "cd73488c",
   "metadata": {},
   "source": [
    "# check leap year or not"
   ]
  },
  {
   "cell_type": "code",
   "execution_count": null,
   "id": "b23b72ac",
   "metadata": {},
   "outputs": [],
   "source": [
    "a=int(input())\n",
    "if a % 4==0:\n",
    "    if a % 100==0:\n",
    "        if a% 400==0:\n",
    "            print(\"the year is leap year\")\n",
    "else:\n",
    "    print(\"the year is not a leap year\")"
   ]
  },
  {
   "cell_type": "markdown",
   "id": "d86f1d9f",
   "metadata": {},
   "source": [
    "# ask user to enter age ,martial status,and gender and then using the following rules print their place of service such as\n",
    "1.if employee is female then she should is work in urban area\n",
    "2.if employee is male and age is bt 20-40 then print he can work anywhere\n",
    "3.if amployee is male and age is bt 40-60 then he can work in urban area\n",
    "4.anyother i/p age should print error"
   ]
  },
  {
   "cell_type": "code",
   "execution_count": 35,
   "id": "0e4bd3aa",
   "metadata": {},
   "outputs": [
    {
     "name": "stdout",
     "output_type": "stream",
     "text": [
      "enter the age 55\n",
      "enter the material status married\n",
      "enter the gendermale\n",
      "should work in urban\n"
     ]
    }
   ],
   "source": [
    "age=int(input(\"enter the age \"))\n",
    "Materialstatus=input(\"enter the material status \")\n",
    "gender=input(\"enter the gender\")\n",
    "if gender == \"female\":\n",
    "    print(\"she shoud work in urban\")\n",
    "elif gender == \"male\" and age >= 20 and age <= 40:\n",
    "    print(\"can work anywhere\")\n",
    "elif gender == \"male\" and age >=40 and age <= 60:\n",
    "    print(\"he should work in urban\")\n",
    "else:\n",
    "    print(\"error\")\n",
    "\n",
    "\n"
   ]
  },
  {
   "cell_type": "markdown",
   "id": "9070f871",
   "metadata": {},
   "source": [
    "# check whether the given i/p is odd or even"
   ]
  },
  {
   "cell_type": "code",
   "execution_count": 40,
   "id": "0766c620",
   "metadata": {},
   "outputs": [
    {
     "name": "stdout",
     "output_type": "stream",
     "text": [
      "enter the number 7\n",
      "the number is odd\n"
     ]
    }
   ],
   "source": [
    "a=int(input(\"enter the number \"))\n",
    "if a%2==0:\n",
    "    print(\"the number is even\")\n",
    "else:\n",
    "    print(\"the number is odd\")"
   ]
  },
  {
   "cell_type": "markdown",
   "id": "fbeec13f",
   "metadata": {},
   "source": [
    "# check the number whether it is divisble by 7 or not"
   ]
  },
  {
   "cell_type": "code",
   "execution_count": 42,
   "id": "c508ecf7",
   "metadata": {},
   "outputs": [
    {
     "name": "stdout",
     "output_type": "stream",
     "text": [
      "enter the number 49\n",
      "the number is divisible by 7\n"
     ]
    }
   ],
   "source": [
    "a=int(input(\"enter the number \"))\n",
    "if a%7==0:\n",
    "    print(\"the number is divisible by 7\")\n",
    "else:\n",
    "    print(\"the number is not divisble by 7\")\n",
    "\n",
    "      "
   ]
  },
  {
   "cell_type": "markdown",
   "id": "96f575fe",
   "metadata": {},
   "source": [
    "# if the number is multiple of 5 print hello or not a multiple of 5 print bye"
   ]
  },
  {
   "cell_type": "code",
   "execution_count": 44,
   "id": "188e89f7",
   "metadata": {},
   "outputs": [
    {
     "name": "stdout",
     "output_type": "stream",
     "text": [
      "enter the number 78\n",
      "bye\n"
     ]
    }
   ],
   "source": [
    "a=int(input(\"enter the number \"))\n",
    "if a%5==0:\n",
    "    print(\"Hello\")\n",
    "else:\n",
    "    print(\"bye\")"
   ]
  },
  {
   "cell_type": "markdown",
   "id": "7f7679b1",
   "metadata": {},
   "source": [
    "# Write a program to calculate the electricty bill according to the following criteria\n",
    "1st 100 units -------- no charge\n",
    "next 100 units -------- Rs 5 per unit\n",
    "after 200 units --------- Rs 10 per unit"
   ]
  },
  {
   "cell_type": "code",
   "execution_count": 28,
   "id": "ccc02962",
   "metadata": {},
   "outputs": [
    {
     "name": "stdout",
     "output_type": "stream",
     "text": [
      "enter the units 55\n",
      "the amount is  55\n"
     ]
    }
   ],
   "source": [
    "unit=int(input(\"enter the units \"))\n",
    "if unit > 200:\n",
    "    unit = unit*10\n",
    "    print(\"the amount is  \",unit)\n",
    "elif unit > 100:\n",
    "    unit = unit*5\n",
    "    print(\"the amount is \",unit)\n",
    "else:\n",
    "    print(\"the amount is \",unit)\n",
    "\n",
    "\n"
   ]
  },
  {
   "cell_type": "markdown",
   "id": "9e4b35c5",
   "metadata": {},
   "source": [
    "# Find the last digit of the number"
   ]
  },
  {
   "cell_type": "code",
   "execution_count": 53,
   "id": "a007f207",
   "metadata": {},
   "outputs": [
    {
     "name": "stdout",
     "output_type": "stream",
     "text": [
      "enter the number 76543\n",
      "the last digit of the number is  3\n"
     ]
    }
   ],
   "source": [
    "a=int(input(\"enter the number \"))\n",
    "b=a%10\n",
    "print(\"the last digit of the number is \",b)"
   ]
  },
  {
   "cell_type": "markdown",
   "id": "8e2fd5cd",
   "metadata": {},
   "source": [
    "# Check whether the last digit of the number is divisible by 3 or not"
   ]
  },
  {
   "cell_type": "code",
   "execution_count": 56,
   "id": "c1465656",
   "metadata": {},
   "outputs": [
    {
     "name": "stdout",
     "output_type": "stream",
     "text": [
      "enter the number 23\n",
      "the number is divisible by 3\n"
     ]
    }
   ],
   "source": [
    "a=int(input(\"enter the number \"))\n",
    "b=a%10\n",
    "if b%3==0:\n",
    "    print(\"the number is divisible by 3\")\n",
    "else:\n",
    "    print(\"the number is not divisible by 3\")"
   ]
  },
  {
   "cell_type": "markdown",
   "id": "238b098b",
   "metadata": {},
   "source": [
    "# write a program ti accept the cost price of a bike and display the road tax to be paid according to the following criteria\n",
    "cost price is less than 100000 the tax is 15%\n",
    "cost price is greater than 50000 and less than or equal to 100000 the tax 10%\n",
    "cost price is less than 50000 and the tax is 5%"
   ]
  },
  {
   "cell_type": "code",
   "execution_count": 29,
   "id": "55bb88b4",
   "metadata": {},
   "outputs": [
    {
     "name": "stdout",
     "output_type": "stream",
     "text": [
      "enter the amount40000\n",
      "the tax amount of bike is  2000.0\n"
     ]
    }
   ],
   "source": [
    "cp=float(input(\"enter the amount\"))\n",
    "if cp > 100000:\n",
    "    cp=cp*15/100\n",
    "    print(\"the tax amount of bike is \",cp)\n",
    "elif cp > 50000 and cp <= 100000:\n",
    "    cp=cp*10/100\n",
    "    print(\"the tax amount of bike is \",cp)\n",
    "else:\n",
    "    cp=cp*5/100\n",
    "    print(\"the tax amount of bike is \",cp)"
   ]
  },
  {
   "cell_type": "markdown",
   "id": "b8af6b1c",
   "metadata": {},
   "source": [
    "# write a program to accpet a number form 1 to 7 and display the name of the day like 1 for sunday 2 for monday and so on"
   ]
  },
  {
   "cell_type": "code",
   "execution_count": 9,
   "id": "74042db2",
   "metadata": {},
   "outputs": [
    {
     "name": "stdout",
     "output_type": "stream",
     "text": [
      "enter the number 8\n",
      "Error\n"
     ]
    }
   ],
   "source": [
    "day=int(input(\"enter the number \"))\n",
    "if day == 1:\n",
    "    print(\"Sunday\")\n",
    "elif day == 2:\n",
    "    print(\"Monday\")\n",
    "elif day == 3:\n",
    "    print(\"Tuesday\")\n",
    "elif day == 4:\n",
    "    print(\"Wednesday\")\n",
    "elif day == 5:\n",
    "    print(\"thursday\")\n",
    "elif day == 6:\n",
    "    print(\"friday\")\n",
    "elif day == 7:\n",
    "    print(\"saturday\")\n",
    "else:\n",
    "    print(\"Error\")"
   ]
  },
  {
   "cell_type": "markdown",
   "id": "33fca291",
   "metadata": {},
   "source": [
    "# Write a program to accept a number from 1 to 12  and display the name of the month and days in that month like 1 for january and number of days 31 and so on"
   ]
  },
  {
   "cell_type": "code",
   "execution_count": 61,
   "id": "bd0460aa",
   "metadata": {},
   "outputs": [
    {
     "name": "stdout",
     "output_type": "stream",
     "text": [
      "enter the month 8\n",
      "the month is august and have 31 days in it\n"
     ]
    }
   ],
   "source": [
    "month=int(input(\"enter the month \"))\n",
    "if month == 1:\n",
    "    print(\"the month is january and have 31 days in it\")\n",
    "elif month == 2:\n",
    "    print(\"the month is february and have 28 days in it\")\n",
    "elif month == 3:\n",
    "    print(\"the month is march and have 31 days in it\")\n",
    "elif month == 4:\n",
    "    print(\"the month is april and have 30 days in it\")\n",
    "elif month == 5:\n",
    "    print(\"the month is may and have 31 days in it\")\n",
    "elif month == 6:\n",
    "    print(\"the month is June and have 30 days in it\")\n",
    "elif month == 7:\n",
    "    print(\"the month is july and have 31 days in it\")\n",
    "elif month == 8:\n",
    "    print(\"the month is august and have 31 days in it\")\n",
    "elif month == 9:\n",
    "    print(\"the month is september and have 30 days in it\")\n",
    "elif month == 10:\n",
    "    print(\"the month is October and have 31 days in it\")\n",
    "elif month == 11:\n",
    "    print(\"the month is november and have 30 days in it\")\n",
    "elif month == 12:\n",
    "    print(\"the month is december and have 31 days in it\")\n",
    "else:\n",
    "    print(\"error\")"
   ]
  },
  {
   "cell_type": "markdown",
   "id": "9db2872f",
   "metadata": {},
   "source": [
    "# accept any city from the user and display monument of that city\n",
    "delhi --- red fort\n",
    "agra ---- taj mahal\n",
    "jaipur -- jal mahal\n"
   ]
  },
  {
   "cell_type": "code",
   "execution_count": 33,
   "id": "4b4ad8ed",
   "metadata": {},
   "outputs": [
    {
     "name": "stdout",
     "output_type": "stream",
     "text": [
      "enter the city bombay\n",
      "Not found\n"
     ]
    }
   ],
   "source": [
    "city=input(\"enter the city \")\n",
    "if city == \"delhi\":\n",
    "    print(\"the monument is Red fort\")\n",
    "elif city == \"chennai\":\n",
    "    print(\"the monument is marina beach\")\n",
    "elif city == \"agra\":\n",
    "    print(\"the monument is taj mahal\")\n",
    "else:\n",
    "    print(\"Not found\")"
   ]
  },
  {
   "cell_type": "markdown",
   "id": "8e1e849f",
   "metadata": {},
   "source": [
    "# to check the number whether it is positive or not"
   ]
  },
  {
   "cell_type": "code",
   "execution_count": 36,
   "id": "4006fcc0",
   "metadata": {},
   "outputs": [
    {
     "name": "stdout",
     "output_type": "stream",
     "text": [
      "enter the value -1\n",
      "negative number\n"
     ]
    }
   ],
   "source": [
    "a=int(input(\"enter the value \"))\n",
    "if a > 0:\n",
    "    print(\"positive number\")\n",
    "else:\n",
    "    print(\"negative number\")"
   ]
  },
  {
   "cell_type": "markdown",
   "id": "c928d5a7",
   "metadata": {},
   "source": [
    "# write a program to check a character is vowel or not\n"
   ]
  },
  {
   "cell_type": "code",
   "execution_count": 46,
   "id": "94a15382",
   "metadata": {},
   "outputs": [
    {
     "name": "stdout",
     "output_type": "stream",
     "text": [
      "t\n",
      "t is not a vowel\n"
     ]
    }
   ],
   "source": [
    "ch=input()\n",
    "if ch == \"A\" or ch == \"E\" or ch == \"I\" or ch == \"O\" or ch == \"U\" or ch == \"a\" or ch == \"e\" or ch == \"i\" or ch == \"o\" or ch == \"u\":\n",
    "    print(ch,\"is a vowel\")\n",
    "else:\n",
    "    print(ch,\"is not a vowel\")"
   ]
  },
  {
   "cell_type": "markdown",
   "id": "6995def9",
   "metadata": {},
   "source": [
    "# get the user input and calculate the net amount as (market price - discount)to pay according to the following criteria\n",
    "greater than 10000 discount 20%\n",
    "greater than 7000 and equal to 10000 discount 15%\n",
    "less than or equal to 7000 discount 10%\n"
   ]
  },
  {
   "cell_type": "code",
   "execution_count": 49,
   "id": "cbf47fd8",
   "metadata": {},
   "outputs": [
    {
     "name": "stdout",
     "output_type": "stream",
     "text": [
      "enter the marked price 4000\n",
      "the total price is  3600.0\n"
     ]
    }
   ],
   "source": [
    "price=float(input(\"enter the marked price \"))\n",
    "if price > 10000:\n",
    "    price=price-(20/100*price)\n",
    "    print(\"the total price is \",price)\n",
    "elif price > 7000 and price <= 10000:\n",
    "    price=price-(15/100*price)\n",
    "    print(\"the total price is \",price)\n",
    "else:\n",
    "    price=price-(10/100*price)\n",
    "    print(\"the total price is \",price)\n",
    "    "
   ]
  },
  {
   "cell_type": "markdown",
   "id": "be09fa84",
   "metadata": {},
   "source": [
    "# accept three sides of triangle and check whether its an equilateral,isosceles or scalene triangle\n"
   ]
  },
  {
   "cell_type": "code",
   "execution_count": 3,
   "id": "a9934937",
   "metadata": {},
   "outputs": [
    {
     "name": "stdout",
     "output_type": "stream",
     "text": [
      "20\n",
      "10\n",
      "205\n",
      "it is a scalene triangle\n"
     ]
    }
   ],
   "source": [
    "side1=int(input())\n",
    "side2=int(input())\n",
    "side3=int(input())\n",
    "if side1 == side2 == side3:\n",
    "    print(\"it is equilateral triangel\")\n",
    "elif side1 == side2 != side3 or side1 != side2 == side3 or side1 == side3 != side2:\n",
    "    print(\"it is isosceles triangle\")\n",
    "else:\n",
    "    print(\"it is a scalene triangle\")"
   ]
  },
  {
   "cell_type": "markdown",
   "id": "9e147b5b",
   "metadata": {},
   "source": [
    "# accept the number of days from the user and calculate the charge for library according to the following\n",
    "till 5 days Rs.2/day\n",
    "6-10 days Rs.3/day\n",
    "11-15 days Rs.4/day\n",
    "after 15 days Rs.5days"
   ]
  },
  {
   "cell_type": "code",
   "execution_count": 8,
   "id": "6f8034ba",
   "metadata": {},
   "outputs": [
    {
     "name": "stdout",
     "output_type": "stream",
     "text": [
      "enter the number of days2\n",
      "the amount is  4\n"
     ]
    }
   ],
   "source": [
    "day=int(input(\"enter the number of days\"))\n",
    "if day > 15:\n",
    "    day = day*5\n",
    "    print(\"the total amount is \",day)\n",
    "elif day >= 11 and day <= 15:\n",
    "    day = day*4\n",
    "    print(\"the amount is \",day)\n",
    "elif day >= 6 and day <= 10:\n",
    "    day = day*3\n",
    "    print(\"the amount is \",day)\n",
    "else:\n",
    "    day = day*2\n",
    "    print(\"the amount is \",day)"
   ]
  },
  {
   "cell_type": "code",
   "execution_count": null,
   "id": "77656fbc",
   "metadata": {},
   "outputs": [],
   "source": []
  }
 ],
 "metadata": {
  "kernelspec": {
   "display_name": "Python 3",
   "language": "python",
   "name": "python3"
  },
  "language_info": {
   "codemirror_mode": {
    "name": "ipython",
    "version": 3
   },
   "file_extension": ".py",
   "mimetype": "text/x-python",
   "name": "python",
   "nbconvert_exporter": "python",
   "pygments_lexer": "ipython3",
   "version": "3.8.8"
  }
 },
 "nbformat": 4,
 "nbformat_minor": 5
}
