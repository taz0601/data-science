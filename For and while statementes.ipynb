{
 "cells": [
  {
   "cell_type": "markdown",
   "id": "0506070a",
   "metadata": {},
   "source": [
    "# Basics of For"
   ]
  },
  {
   "cell_type": "code",
   "execution_count": 6,
   "id": "4701d3f1",
   "metadata": {
    "scrolled": true
   },
   "outputs": [
    {
     "name": "stdout",
     "output_type": "stream",
     "text": [
      "h\n",
      "e\n",
      "l\n",
      "l\n",
      "o\n",
      " \n",
      "w\n",
      "o\n",
      "r\n",
      "l\n",
      "d\n"
     ]
    }
   ],
   "source": [
    "a=\"hello world\"\n",
    "for x in a:\n",
    "    print(x)"
   ]
  },
  {
   "cell_type": "code",
   "execution_count": 7,
   "id": "b5d8d301",
   "metadata": {},
   "outputs": [
    {
     "name": "stdout",
     "output_type": "stream",
     "text": [
      "abi\n",
      "allwin\n",
      "hari\n",
      "prasanth\n"
     ]
    }
   ],
   "source": [
    "a=['abi','allwin','hari','prasanth']\n",
    "for x in a:\n",
    "    print(x)"
   ]
  },
  {
   "cell_type": "code",
   "execution_count": null,
   "id": "a08935a0",
   "metadata": {},
   "outputs": [],
   "source": [
    "program for break"
   ]
  },
  {
   "cell_type": "code",
   "execution_count": 5,
   "id": "17fae441",
   "metadata": {},
   "outputs": [
    {
     "name": "stdout",
     "output_type": "stream",
     "text": [
      "apple\n"
     ]
    }
   ],
   "source": [
    "fruits=['apple','banana','orange']\n",
    "for x in fruits:\n",
    "    if x == 'banana':\n",
    "        break\n",
    "    print(x)    "
   ]
  },
  {
   "cell_type": "code",
   "execution_count": null,
   "id": "09eb09b3",
   "metadata": {},
   "outputs": [],
   "source": [
    "program for continue"
   ]
  },
  {
   "cell_type": "code",
   "execution_count": 6,
   "id": "6ea34d57",
   "metadata": {},
   "outputs": [
    {
     "name": "stdout",
     "output_type": "stream",
     "text": [
      "apple\n",
      "orange\n"
     ]
    }
   ],
   "source": [
    "fruits=['apple','banana','orange']\n",
    "for x in fruits:\n",
    "    if x == 'banana':\n",
    "        continue\n",
    "    print(x)"
   ]
  },
  {
   "cell_type": "code",
   "execution_count": null,
   "id": "936ca969",
   "metadata": {},
   "outputs": [],
   "source": [
    "puprose of pass is skiping"
   ]
  },
  {
   "cell_type": "code",
   "execution_count": 7,
   "id": "0a29320c",
   "metadata": {},
   "outputs": [],
   "source": [
    "a=[]\n",
    "for x in a:\n",
    "    pass"
   ]
  },
  {
   "cell_type": "code",
   "execution_count": null,
   "id": "4df4ce05",
   "metadata": {},
   "outputs": [],
   "source": [
    "range progam"
   ]
  },
  {
   "cell_type": "code",
   "execution_count": 8,
   "id": "9a30c4b2",
   "metadata": {},
   "outputs": [
    {
     "name": "stdout",
     "output_type": "stream",
     "text": [
      "2\n",
      "3\n",
      "4\n",
      "5\n"
     ]
    }
   ],
   "source": [
    "for x in range (2,6):\n",
    "    print(x)"
   ]
  },
  {
   "cell_type": "code",
   "execution_count": 9,
   "id": "0f6b9f3e",
   "metadata": {},
   "outputs": [
    {
     "name": "stdout",
     "output_type": "stream",
     "text": [
      "2\n",
      "6\n",
      "10\n",
      "14\n",
      "18\n",
      "22\n",
      "26\n",
      "30\n",
      "34\n",
      "38\n"
     ]
    }
   ],
   "source": [
    "for x in range (2,40,4): #4 is used as incremnt operator\n",
    "    print(x)"
   ]
  },
  {
   "cell_type": "code",
   "execution_count": null,
   "id": "4b06169e",
   "metadata": {},
   "outputs": [],
   "source": [
    "combining if and for"
   ]
  },
  {
   "cell_type": "code",
   "execution_count": 14,
   "id": "2a0d325a",
   "metadata": {},
   "outputs": [
    {
     "name": "stdout",
     "output_type": "stream",
     "text": [
      "0\n",
      "1\n",
      "2\n"
     ]
    }
   ],
   "source": [
    "for x in range(6):\n",
    "    if x == 3:\n",
    "        break  #either break or continue can be used\n",
    "    print(x)\n",
    "else:\n",
    "    print(\"reached final\")\n",
    "    "
   ]
  },
  {
   "cell_type": "code",
   "execution_count": null,
   "id": "67cfef61",
   "metadata": {},
   "outputs": [],
   "source": [
    "nested loops "
   ]
  },
  {
   "cell_type": "code",
   "execution_count": 18,
   "id": "4c4700d5",
   "metadata": {},
   "outputs": [
    {
     "name": "stdout",
     "output_type": "stream",
     "text": [
      "apple orange\n",
      "apple pomo\n",
      "apple mango\n",
      "banana orange\n",
      "banana pomo\n",
      "banana mango\n",
      "cherry orange\n",
      "cherry pomo\n",
      "cherry mango\n"
     ]
    }
   ],
   "source": [
    "fruit1=['apple','banana','cherry']\n",
    "fruit2=['orange','pomo','mango']\n",
    "for x in fruit1:\n",
    "     for y in fruit2:\n",
    "        print(x,y)"
   ]
  },
  {
   "cell_type": "code",
   "execution_count": null,
   "id": "9dbf440e",
   "metadata": {},
   "outputs": [],
   "source": [
    "while basic"
   ]
  },
  {
   "cell_type": "code",
   "execution_count": 22,
   "id": "c6dc4a4d",
   "metadata": {},
   "outputs": [
    {
     "name": "stdout",
     "output_type": "stream",
     "text": [
      "1\n",
      "2\n",
      "3\n",
      "4\n",
      "5\n",
      "6\n",
      "7\n",
      "8\n",
      "9\n",
      "10\n",
      "11\n",
      "12\n",
      "13\n",
      "14\n",
      "15\n",
      "16\n",
      "17\n",
      "18\n",
      "19\n",
      "20\n",
      "21\n",
      "22\n",
      "23\n",
      "24\n",
      "25\n",
      "26\n",
      "27\n",
      "28\n",
      "29\n"
     ]
    }
   ],
   "source": [
    "i=1\n",
    "while i < 30:\n",
    "    print(i)\n",
    "    i+=1\n"
   ]
  },
  {
   "cell_type": "code",
   "execution_count": 23,
   "id": "9fafab60",
   "metadata": {},
   "outputs": [
    {
     "name": "stdout",
     "output_type": "stream",
     "text": [
      "1\n"
     ]
    }
   ],
   "source": [
    "i=1\n",
    "while i < 30:\n",
    "    print(i)\n",
    "    i+=1\n",
    "    break\n",
    "    \n",
    "    "
   ]
  },
  {
   "cell_type": "code",
   "execution_count": 24,
   "id": "d5f20600",
   "metadata": {},
   "outputs": [
    {
     "name": "stdout",
     "output_type": "stream",
     "text": [
      "1\n",
      "2\n",
      "3\n",
      "4\n",
      "5\n",
      "6\n",
      "7\n",
      "8\n",
      "9\n",
      "10\n",
      "11\n",
      "12\n",
      "13\n",
      "14\n",
      "15\n",
      "16\n",
      "17\n",
      "18\n",
      "19\n",
      "20\n",
      "21\n",
      "22\n",
      "23\n",
      "24\n",
      "25\n",
      "26\n",
      "27\n",
      "28\n",
      "29\n"
     ]
    }
   ],
   "source": [
    "i=1\n",
    "while i < 30:\n",
    "    print(i)\n",
    "    i+=1\n",
    "    continue\n"
   ]
  },
  {
   "cell_type": "code",
   "execution_count": null,
   "id": "a04d2d01",
   "metadata": {},
   "outputs": [],
   "source": [
    "Secert game program while and if example\n"
   ]
  },
  {
   "cell_type": "code",
   "execution_count": 27,
   "id": "733d2f78",
   "metadata": {},
   "outputs": [
    {
     "name": "stdout",
     "output_type": "stream",
     "text": [
      "enter the guess value 6\n",
      "enter the guess value 7\n",
      "enter the guess value 9\n",
      "you win\n"
     ]
    }
   ],
   "source": [
    "secret_number=9\n",
    "guess_count=0\n",
    "guess_limit=3\n",
    "while guess_count < guess_limit:\n",
    "    guess=int(input(\"enter the guess value \"))\n",
    "    guess_count +=1\n",
    "    if guess == secret_number:\n",
    "        print(\"you win\")\n",
    "        break\n",
    "else:\n",
    "    print(\"you fail\")"
   ]
  },
  {
   "cell_type": "code",
   "execution_count": null,
   "id": "6290307c",
   "metadata": {},
   "outputs": [],
   "source": [
    "car game while and if"
   ]
  },
  {
   "cell_type": "code",
   "execution_count": 27,
   "id": "b66f6719",
   "metadata": {},
   "outputs": [
    {
     "name": "stdout",
     "output_type": "stream",
     "text": [
      "stop\n",
      "already stopped\n",
      "start\n",
      "car started\n",
      "quit\n",
      "car quited\n"
     ]
    }
   ],
   "source": [
    "command=\"\"\n",
    "started=False\n",
    "while True:\n",
    "    command=input().lower()\n",
    "    if command == 'start':\n",
    "        if started:\n",
    "            print(\"already started\")\n",
    "        else:\n",
    "            started=True\n",
    "            print(\"car started\")\n",
    "    elif command == 'stop':\n",
    "        if not started:\n",
    "            print(\"already stopped\")\n",
    "        else:\n",
    "            started=False\n",
    "            print(\"car stopped\")\n",
    "    elif command == 'help':\n",
    "            print(\"> start > stop > quit\")\n",
    "    elif command == 'quit':\n",
    "            print(\"car quited\")\n",
    "            break\n",
    "    else:\n",
    "        print(\"dont understand the command\")"
   ]
  }
 ],
 "metadata": {
  "kernelspec": {
   "display_name": "Python 3",
   "language": "python",
   "name": "python3"
  },
  "language_info": {
   "codemirror_mode": {
    "name": "ipython",
    "version": 3
   },
   "file_extension": ".py",
   "mimetype": "text/x-python",
   "name": "python",
   "nbconvert_exporter": "python",
   "pygments_lexer": "ipython3",
   "version": "3.8.8"
  }
 },
 "nbformat": 4,
 "nbformat_minor": 5
}
