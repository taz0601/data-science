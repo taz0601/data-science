{
 "cells": [
  {
   "cell_type": "code",
   "execution_count": null,
   "id": "5c872506",
   "metadata": {},
   "outputs": [],
   "source": [
    "#area of triangle"
   ]
  },
  {
   "cell_type": "code",
   "execution_count": 1,
   "id": "e4cb90a1",
   "metadata": {},
   "outputs": [
    {
     "name": "stdout",
     "output_type": "stream",
     "text": [
      "enter the value of Breadth4\n",
      "enter the value of height8\n"
     ]
    },
    {
     "data": {
      "text/plain": [
       "16.0"
      ]
     },
     "execution_count": 1,
     "metadata": {},
     "output_type": "execute_result"
    }
   ],
   "source": [
    "class Area:\n",
    "    def area(self,b,h):\n",
    "        a=(1/2)*b*h\n",
    "        return a\n",
    "b=int(input(\"enter the value of Breadth\"))\n",
    "h=int(input(\"enter the value of height\"))\n",
    "\n",
    "ar=Area()\n",
    "ar.area(b,h)"
   ]
  },
  {
   "cell_type": "code",
   "execution_count": null,
   "id": "19163aa2",
   "metadata": {},
   "outputs": [],
   "source": [
    "#vol of sphere"
   ]
  },
  {
   "cell_type": "code",
   "execution_count": 2,
   "id": "b19c2ba7",
   "metadata": {},
   "outputs": [
    {
     "name": "stdout",
     "output_type": "stream",
     "text": [
      "12.559999999999999\n"
     ]
    }
   ],
   "source": [
    "def volume(r):\n",
    "    s=(4/3)*3.14*r\n",
    "    return s\n",
    "x=volume(3)\n",
    "print(x)"
   ]
  },
  {
   "cell_type": "code",
   "execution_count": null,
   "id": "6ebfcf65",
   "metadata": {},
   "outputs": [],
   "source": [
    "#celcius to Fahrenheit"
   ]
  },
  {
   "cell_type": "code",
   "execution_count": 3,
   "id": "aaba1837",
   "metadata": {},
   "outputs": [
    {
     "name": "stdout",
     "output_type": "stream",
     "text": [
      "enter the celcius37\n"
     ]
    },
    {
     "data": {
      "text/plain": [
       "98.6"
      ]
     },
     "execution_count": 3,
     "metadata": {},
     "output_type": "execute_result"
    }
   ],
   "source": [
    "class Celcius:\n",
    "    def celcius(self,a):\n",
    "        f=(a*9/5)+32\n",
    "        return f\n",
    "a=int(input(\"enter the celcius\"))\n",
    "\n",
    "ob=Celcius()\n",
    "ob.celcius(a)"
   ]
  },
  {
   "cell_type": "code",
   "execution_count": null,
   "id": "4b5c4eaa",
   "metadata": {},
   "outputs": [],
   "source": [
    "create a function and accept the 2 arguments"
   ]
  },
  {
   "cell_type": "code",
   "execution_count": 10,
   "id": "757c1d08",
   "metadata": {},
   "outputs": [
    {
     "name": "stdout",
     "output_type": "stream",
     "text": [
      "the name is  hari\n",
      "the age is  5\n"
     ]
    }
   ],
   "source": [
    "def value(name,age):\n",
    "    print(\"the name is \",name)\n",
    "    print(\"the age is \",age)\n",
    "    \n",
    "value(\"hari\",\"5\")\n"
   ]
  },
  {
   "cell_type": "code",
   "execution_count": null,
   "id": "2e2e8ef6",
   "metadata": {},
   "outputs": [],
   "source": [
    "pass the list and do insert with value and poistion"
   ]
  },
  {
   "cell_type": "code",
   "execution_count": 6,
   "id": "14c18cd2",
   "metadata": {},
   "outputs": [
    {
     "data": {
      "text/plain": [
       "['hari', 'transformer', 'decepticon', 'autobot']"
      ]
     },
     "execution_count": 6,
     "metadata": {},
     "output_type": "execute_result"
    }
   ],
   "source": [
    "class Daily:\n",
    "    def value(self,name):\n",
    "        name.insert(3,\"autobot\")\n",
    "        return name\n",
    "\n",
    "\n",
    "    \n",
    "name=['hari','transformer','decepticon']\n",
    "ob=Daily()\n",
    "ob.value(name)\n"
   ]
  },
  {
   "cell_type": "code",
   "execution_count": null,
   "id": "32187893",
   "metadata": {},
   "outputs": [],
   "source": [
    "pass list and do delete with the value , position"
   ]
  },
  {
   "cell_type": "code",
   "execution_count": 3,
   "id": "906a3779",
   "metadata": {},
   "outputs": [
    {
     "ename": "TypeError",
     "evalue": "a() missing 1 required positional argument: 'name'",
     "output_type": "error",
     "traceback": [
      "\u001b[0;31m---------------------------------------------------------------------------\u001b[0m",
      "\u001b[0;31mTypeError\u001b[0m                                 Traceback (most recent call last)",
      "\u001b[0;32m<ipython-input-3-80a4494794e7>\u001b[0m in \u001b[0;36m<module>\u001b[0;34m\u001b[0m\n\u001b[1;32m      6\u001b[0m \u001b[0mname\u001b[0m\u001b[0;34m=\u001b[0m\u001b[0;34m[\u001b[0m\u001b[0;34m'hari'\u001b[0m\u001b[0;34m,\u001b[0m\u001b[0;34m'transformer'\u001b[0m\u001b[0;34m,\u001b[0m\u001b[0;34m'decepticon'\u001b[0m\u001b[0;34m]\u001b[0m\u001b[0;34m\u001b[0m\u001b[0;34m\u001b[0m\u001b[0m\n\u001b[1;32m      7\u001b[0m \u001b[0mob\u001b[0m\u001b[0;34m=\u001b[0m\u001b[0mA\u001b[0m\u001b[0;34m\u001b[0m\u001b[0;34m\u001b[0m\u001b[0m\n\u001b[0;32m----> 8\u001b[0;31m \u001b[0mob\u001b[0m\u001b[0;34m.\u001b[0m\u001b[0ma\u001b[0m\u001b[0;34m(\u001b[0m\u001b[0;34m'hari'\u001b[0m\u001b[0;34m)\u001b[0m\u001b[0;34m\u001b[0m\u001b[0;34m\u001b[0m\u001b[0m\n\u001b[0m",
      "\u001b[0;31mTypeError\u001b[0m: a() missing 1 required positional argument: 'name'"
     ]
    }
   ],
   "source": [
    "class A:\n",
    "    def a(self,name):\n",
    "        del name[2]\n",
    "        return name\n",
    "\n",
    "name=['hari','transformer','decepticon']\n",
    "ob=A\n",
    "ob.a('hari')"
   ]
  },
  {
   "cell_type": "code",
   "execution_count": null,
   "id": "f850171b",
   "metadata": {},
   "outputs": [],
   "source": [
    "calculate add and sub"
   ]
  },
  {
   "cell_type": "code",
   "execution_count": 29,
   "id": "a2176eb3",
   "metadata": {},
   "outputs": [
    {
     "ename": "TypeError",
     "evalue": "Calc() takes no arguments",
     "output_type": "error",
     "traceback": [
      "\u001b[0;31m---------------------------------------------------------------------------\u001b[0m",
      "\u001b[0;31mTypeError\u001b[0m                                 Traceback (most recent call last)",
      "\u001b[0;32m<ipython-input-29-d3767a1d8259>\u001b[0m in \u001b[0;36m<module>\u001b[0;34m\u001b[0m\n\u001b[1;32m      7\u001b[0m \u001b[0ma\u001b[0m\u001b[0;34m=\u001b[0m\u001b[0;36m10\u001b[0m\u001b[0;34m\u001b[0m\u001b[0;34m\u001b[0m\u001b[0m\n\u001b[1;32m      8\u001b[0m \u001b[0mb\u001b[0m\u001b[0;34m=\u001b[0m\u001b[0;36m5\u001b[0m\u001b[0;34m\u001b[0m\u001b[0;34m\u001b[0m\u001b[0m\n\u001b[0;32m----> 9\u001b[0;31m \u001b[0mob\u001b[0m\u001b[0;34m=\u001b[0m\u001b[0mCalc\u001b[0m\u001b[0;34m(\u001b[0m\u001b[0ma\u001b[0m\u001b[0;34m,\u001b[0m\u001b[0mb\u001b[0m\u001b[0;34m)\u001b[0m\u001b[0;34m\u001b[0m\u001b[0;34m\u001b[0m\u001b[0m\n\u001b[0m\u001b[1;32m     10\u001b[0m \u001b[0mprint\u001b[0m\u001b[0;34m(\u001b[0m\u001b[0mob\u001b[0m\u001b[0;34m)\u001b[0m\u001b[0;34m\u001b[0m\u001b[0;34m\u001b[0m\u001b[0m\n",
      "\u001b[0;31mTypeError\u001b[0m: Calc() takes no arguments"
     ]
    }
   ],
   "source": [
    "class Calc:\n",
    "    def calculation(self,add,sub):\n",
    "        add=a+b\n",
    "        sub=a-b\n",
    "        return add,sub\n",
    "\n",
    "a=10\n",
    "b=5\n",
    "ob=Calc(a,b)\n",
    "print(ob)\n"
   ]
  }
 ],
 "metadata": {
  "kernelspec": {
   "display_name": "Python 3",
   "language": "python",
   "name": "python3"
  },
  "language_info": {
   "codemirror_mode": {
    "name": "ipython",
    "version": 3
   },
   "file_extension": ".py",
   "mimetype": "text/x-python",
   "name": "python",
   "nbconvert_exporter": "python",
   "pygments_lexer": "ipython3",
   "version": "3.8.8"
  }
 },
 "nbformat": 4,
 "nbformat_minor": 5
}
